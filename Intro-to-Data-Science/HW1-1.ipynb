{
 "cells": [
  {
   "cell_type": "markdown",
   "metadata": {
    "colab_type": "text",
    "id": "vUCttYssmhet"
   },
   "source": [
    "<a id='top'></a>\n",
    "\n",
    "# Homework 1: Data Cleaning and Exploratory Data Analysis \n",
    "***\n",
    "\n",
    "**Name**: Shreyas Kadekodi\n",
    "\n",
    "***\n",
    "\n",
    "This assignment is due on Canvas by **11:59 PM on Sunday June 14**. Your solutions to theoretical questions should be done in Markdown directly below the associated question.  Your solutions to computational questions should include any specified Python code and results as well as written commentary on your conclusions.  Remember that you are encouraged to discuss the problems with your classmates, but **you must write all code and solutions on your own**.\n",
    "\n",
    "**NOTES**: \n",
    "\n",
    "- If you're not familiar with typesetting math directly into Markdown then by all means, do your work on paper first and then typeset it later.  Refer the [reference guide](https://math.meta.stackexchange.com/questions/5020/mathjax-basic-tutorial-and-quick-reference) on writing math in Markdown. **All** of your written commentary, justifications and mathematical work should be in Markdown.\n",
    "\n",
    "- Because you can technically evaluate notebook cells is a non-linear order, it's a good idea to do Kernel $\\rightarrow$ Restart & Run All as a check before submitting your solutions.  That way if we need to run your code you will know that it will work as expected. \n",
    "\n",
    "- It is **bad form** to make your reader interpret numerical output from your code.  If a question asks you to compute some value from the data you should show your code output **AND** write a summary of the results in Markdown directly below your code. \n",
    "\n",
    "- This probably goes without saying, but... For any question that asks you to calculate something, you **must show all work and justify your answers to receive credit**. Sparse or nonexistent work will receive sparse or nonexistent credit. \n",
    "\n",
    "---\n",
    "**Shortcuts:**  [Problem 1](#p1) | [Problem 2](#p2) | [Problem 3](#p3) | [Problem 4](#p4) | [Problem 5](#p5) \n",
    "\n",
    "---"
   ]
  },
  {
   "cell_type": "code",
   "execution_count": 1,
   "metadata": {
    "colab": {},
    "colab_type": "code",
    "id": "W6uwmKUBmheu"
   },
   "outputs": [],
   "source": [
    "import pandas as pd\n",
    "import numpy as np\n",
    "import matplotlib.pylab as plt\n",
    "%matplotlib inline"
   ]
  },
  {
   "cell_type": "markdown",
   "metadata": {
    "colab_type": "text",
    "id": "QSCtARddmhex"
   },
   "source": [
    "[Back to top](#top)\n",
    "\n",
    "<br>\n",
    "\n",
    "<a id='p1'></a>\n",
    "\n",
    "### (10 points) Problem 1\n",
    "***\n",
    "\n",
    "<img style=\"float: left; width: 200px; padding: 3mm;\" src=\"https://aquarium.org/wp-content/uploads/2015/08/Seahorse-female.jpg\" alt=\"Drawing\"/>  \n",
    "Poseidon is studying seahorses. Locations in each of the Atlantic, Pacific, Indian, Artic, and Southern Oceans are chosen to catch and release seahorses. After being caught, the seahorses are monitored for 24 hours while being fed organic, free-range plankton. The amount of plankton that each seahorse eats is recorded in an app on Poseidon’s phone, called Hippocampus. He collects 6 seahorses from the Arctic Ocean, 36 seahorses from the Pacific Ocean, 12 seahorses from the Indian Ocean, 6 seahorses from the Southern Ocean, and 42 seahorses from the Atlantic Ocean. \n",
    "\n",
    "Poseidon wants to get a sense for the average amount of plankton eaten by seahorses, so he uses the Hippcampus app to first order the seahorses in terms of when each seahorse was caught (first caught to last caught). Then, he selects every 3rd seahorse to see how much plankton was eaten.\n",
    "\n",
    "$$ \\quad $$\n",
    "<br>\n",
    "<br>\n",
    "<br>\n",
    "**Part A:** Identify the following: \n",
    "\n",
    "- the population \n",
    "- the sample frame \n",
    "- the sample \n",
    "- the type of sample \n",
    "- the quantity of interest"
   ]
  },
  {
   "cell_type": "markdown",
   "metadata": {
    "colab_type": "text",
    "id": "olYX30QKmhey"
   },
   "source": [
    "The population of the problem is all seahorses. The sample frame is the seahorses from those oceans, and the sample is the seahorses that were measured. It is a systematic sample, and the quantity of interest is the amount of plankton consumed.  "
   ]
  },
  {
   "cell_type": "markdown",
   "metadata": {
    "colab_type": "text",
    "id": "6Anzrna1mhez"
   },
   "source": [
    "[Back to top](#top)\n",
    "\n",
    "<br>\n",
    "\n",
    "<a id='p2'></a>\n",
    "\n",
    "### (25 points) Problem 2\n",
    "***\n",
    "\n",
    "A method to investigate the sensitivity of the sample mean and sample median to extreme outliers and changes in the dataset is to replace one or more elements in a given dataset by a number $y$ and investigate the effect when $y$ changes. To illustrate this, consider the following dataset:\n",
    " \n",
    "$$  4.3 \\quad 5.2 \\quad 5.0 \\quad 3.8 \\quad 4.1 \\quad 5.5 \\quad 1.9 $$\n",
    "\n",
    "\n"
   ]
  },
  {
   "cell_type": "markdown",
   "metadata": {
    "colab_type": "text",
    "id": "-tKAeJL7mhez"
   },
   "source": [
    "**Part A:** Compute the sample mean and sample median. Do not use the canned mean and median python functions. Write your own code to compute these quantities. You may use the python length and sort functions, but that is it."
   ]
  },
  {
   "cell_type": "code",
   "execution_count": 2,
   "metadata": {
    "colab": {},
    "colab_type": "code",
    "id": "3owAi5n_mhe0"
   },
   "outputs": [
    {
     "name": "stdout",
     "output_type": "stream",
     "text": [
      "The mean is: 4.257142857142857\n",
      "The median is: 4.3\n"
     ]
    }
   ],
   "source": [
    "# Your code here.\n",
    "# Your code here.\n",
    "Dataset= [4.3, 5.2, 5.0, 3.8, 4.1, 5.5, 1.9]\n",
    "total=0.0\n",
    "for i in Dataset:\n",
    "    total+=i\n",
    "print(\"The mean is:\" ,total/len(Dataset))\n",
    "Dataset.sort()\n",
    "while(len(Dataset)>2):\n",
    "    Dataset.pop(0)\n",
    "    Dataset.pop()\n",
    "if(len(Dataset)==2):\n",
    "    print(\"The median is:\" , ((Dataset[0]+Dataset[1])/2))\n",
    "else:\n",
    "    print(\"The median is:\" , (Dataset[0]))\n",
    "    "
   ]
  },
  {
   "cell_type": "markdown",
   "metadata": {
    "colab_type": "text",
    "id": "7Y3szx9amhe2"
   },
   "source": [
    "**Part B:** Now, recompute the mean and the median using the python numpy functions. Compare your answers to what you computed in Part A. Do your answer match? (Hint: They should!)"
   ]
  },
  {
   "cell_type": "code",
   "execution_count": 3,
   "metadata": {
    "colab": {},
    "colab_type": "code",
    "id": "arBk8YKtmhe3"
   },
   "outputs": [
    {
     "name": "stdout",
     "output_type": "stream",
     "text": [
      "4.257142857142857\n",
      "4.3\n"
     ]
    }
   ],
   "source": [
    "# Your code here.\n",
    "import numpy as np\n",
    "Dataset= [4.3, 5.2, 5.0, 3.8, 4.1, 5.5, 1.9]\n",
    "print(np.mean(Dataset))\n",
    "print(np.median(Dataset))\n"
   ]
  },
  {
   "cell_type": "markdown",
   "metadata": {
    "colab_type": "text",
    "id": "P9I13DRAmhe6"
   },
   "source": [
    "The median (4.3) and mean (4.257142857142857) of the numpy solutions is equivalent to the one I found."
   ]
  },
  {
   "cell_type": "markdown",
   "metadata": {
    "colab_type": "text",
    "id": "ulpFIaaCmhe6"
   },
   "source": [
    "**Part C:** Now consider the following data set. \n",
    "$$  4.3 \\quad 5.2 \\quad 5.0 \\quad 3.8 \\quad 4.1 \\quad 5.5 \\quad 1.9 \\quad y$$\n",
    "\n",
    "Is there a value for $y$ that would make the mean of the data equal to 7? If so, calculate the value of $y$ that makes the mean equal to 7. If not, clearly explain why not.\n",
    "    \n",
    "Is there a value for $y$ that would make the median of the data equal to 7? If so, calculate the values of $y$ that makes the median equal to 7. If not, clearly explain why not."
   ]
  },
  {
   "cell_type": "markdown",
   "metadata": {
    "colab_type": "text",
    "id": "5hhaaH8Xmhe7"
   },
   "source": [
    "There is a value for y that would make the value 7. This is because the mean is calculated by summing all the numbers in the set, then dividing by size, meaning an outlier can significantly impact the set's mean."
   ]
  },
  {
   "cell_type": "code",
   "execution_count": 4,
   "metadata": {
    "colab": {},
    "colab_type": "code",
    "id": "mejLX0g-mhe7",
    "scrolled": false
   },
   "outputs": [
    {
     "name": "stdout",
     "output_type": "stream",
     "text": [
      "The new y value is 26.200000000000003\n"
     ]
    }
   ],
   "source": [
    "# Your code here.\n",
    "Dataset= [4.3, 5.2, 5.0, 3.8, 4.1, 5.5, 1.9]\n",
    "total=0.0\n",
    "for i in Dataset:\n",
    "    total+=i\n",
    "y=(len(Dataset)+1)*7-total\n",
    "print(\"The new y value is\", y)"
   ]
  },
  {
   "cell_type": "markdown",
   "metadata": {
    "colab_type": "text",
    "id": "59dSwkv4mhe-"
   },
   "source": [
    "There is no value for which the median can be made equal to 7. Adding a value greater value would simply shift the median to 5.0, since the median is not affected by how much larger a given value is."
   ]
  },
  {
   "cell_type": "code",
   "execution_count": 5,
   "metadata": {
    "colab": {},
    "colab_type": "code",
    "id": "_sIeSkRemhe-"
   },
   "outputs": [
    {
     "name": "stdout",
     "output_type": "stream",
     "text": [
      "std:  1.2094863136295273\n"
     ]
    }
   ],
   "source": [
    "# Your code here.\n",
    "Dataset= [4.3, 5.2, 5.0, 3.8, 4.1, 5.5, 1.9]\n",
    "total=0.0\n",
    "for i in Dataset:\n",
    "    total+=i\n",
    "mean =total/len(Dataset)\n",
    "sum=0\n",
    "for j in Dataset:\n",
    "    sum+=pow(j-mean,2)\n",
    "print(\"std: \", pow(sum/(len(Dataset)-1),0.5))"
   ]
  },
  {
   "cell_type": "markdown",
   "metadata": {
    "colab_type": "text",
    "id": "cmK1yL75mhfD"
   },
   "source": [
    "**Part D**: Compute the sample variance and the sample standard deviation for the original dataset given in part A using the formulas given in class. You may not use the built-in python variance, standard deviation, or sum functions. Using the length and square root functions is fine."
   ]
  },
  {
   "cell_type": "code",
   "execution_count": 6,
   "metadata": {
    "colab": {},
    "colab_type": "code",
    "id": "5F2eKDgdmhfE"
   },
   "outputs": [
    {
     "name": "stdout",
     "output_type": "stream",
     "text": [
      "Variance:  1.4628571428571433\n"
     ]
    }
   ],
   "source": [
    "# Your code here.\n",
    "Dataset= [4.3, 5.2, 5.0, 3.8, 4.1, 5.5, 1.9]\n",
    "total=0.0\n",
    "for i in Dataset:\n",
    "    total+=i\n",
    "mean =total/len(Dataset)\n",
    "sum=0\n",
    "for j in Dataset:\n",
    "    sum+=pow(j-mean,2)\n",
    "print(\"Variance: \", sum/(len(Dataset)-1))"
   ]
  },
  {
   "cell_type": "markdown",
   "metadata": {
    "colab_type": "text",
    "id": "CHeFfUMxmhfG"
   },
   "source": [
    "**Part E:** Execute the following code. Does it match what you computed in part D? Why or why not? If not, how can you correct the code below?"
   ]
  },
  {
   "cell_type": "code",
   "execution_count": 7,
   "metadata": {
    "colab": {},
    "colab_type": "code",
    "id": "jYRJaOHEmhfG",
    "scrolled": true
   },
   "outputs": [
    {
     "name": "stdout",
     "output_type": "stream",
     "text": [
      "The sample variance is:  1.2538775510204085\n",
      "the std dev is:  1.1197667395580244\n"
     ]
    }
   ],
   "source": [
    "import numpy as np\n",
    "dataset = [4.3, 5.2, 5.0, 3.8, 4.1, 5.5, 1.9]\n",
    "print(\"The sample variance is: \", np.var(dataset))\n",
    "print(\"the std dev is: \", np.std(dataset))"
   ]
  },
  {
   "cell_type": "markdown",
   "metadata": {
    "colab_type": "text",
    "id": "U5_STB1jmhfJ"
   },
   "source": [
    "It does not match what I computed. The formula they use divides by 1/n, rather than 1/(n-1). The second argument ddof=1 would fix it"
   ]
  },
  {
   "cell_type": "code",
   "execution_count": 8,
   "metadata": {
    "colab": {},
    "colab_type": "code",
    "id": "D5mLo7eMmhfJ"
   },
   "outputs": [
    {
     "name": "stdout",
     "output_type": "stream",
     "text": [
      "The corrected sample variance is:  1.4628571428571433\n",
      "the corrected std dev is:  1.2094863136295273\n"
     ]
    }
   ],
   "source": [
    "# Your code here.\n",
    "import numpy as np\n",
    "dataset = [4.3, 5.2, 5.0, 3.8, 4.1, 5.5, 1.9]\n",
    "print(\"The corrected sample variance is: \", np.var(dataset,ddof=1))\n",
    "print(\"the corrected std dev is: \", np.std(dataset,ddof=1))"
   ]
  },
  {
   "cell_type": "markdown",
   "metadata": {
    "colab_type": "text",
    "id": "pY43hZ9TmhfM"
   },
   "source": [
    "**Part F**: Again consider the data set from Part C: $$  4.3 \\quad 5.2 \\quad 5.0 \\quad 3.8 \\quad 4.1 \\quad 5.5 \\quad 1.9 \\quad y$$\n",
    "\n",
    "Compute the sample median for the following cases (you may use whatever built-in python functions you'd like): \n",
    "- $y=5$ \n",
    "- $y=50$ \n",
    "- $y=4.36$ \n",
    "- $y \\to \\infty$ \n",
    "- $y \\to -\\infty$"
   ]
  },
  {
   "cell_type": "code",
   "execution_count": 9,
   "metadata": {
    "colab": {},
    "colab_type": "code",
    "id": "9znR0pnumhfM"
   },
   "outputs": [
    {
     "name": "stdout",
     "output_type": "stream",
     "text": [
      "The sample median for y=5 is:  4.65\n",
      "The sample median for y=50 is:  4.65\n",
      "The sample median for y=4.36 is:  4.33\n",
      "The sample median for y=inf is:  4.65\n",
      "The sample median for y=-inf is:  4.199999999999999\n"
     ]
    }
   ],
   "source": [
    "import numpy as np\n",
    "dataset = [4.3, 5.2, 5.0, 3.8, 4.1, 5.5, 1.9, 5]\n",
    "print(\"The sample median for y=5 is: \", np.median(dataset))\n",
    "dataset.pop()\n",
    "dataset.append(50)\n",
    "print(\"The sample median for y=50 is: \", np.median(dataset))\n",
    "dataset.pop()\n",
    "dataset.append(4.36)\n",
    "print(\"The sample median for y=4.36 is: \", np.median(dataset))\n",
    "dataset.pop()\n",
    "dataset.append(float('inf'))\n",
    "print(\"The sample median for y=inf is: \", np.median(dataset))\n",
    "dataset.pop()\n",
    "dataset.append(float('-inf'))\n",
    "print(\"The sample median for y=-inf is: \", np.median(dataset))"
   ]
  },
  {
   "cell_type": "markdown",
   "metadata": {
    "colab_type": "text",
    "id": "eJijy5GqmhfP"
   },
   "source": [
    "**Part G**: Think about the previous parts, above, and describe in words or mathematical notation the answer to the following question:\n",
    "\n",
    "- By varying $y$, what is the set of all the possible values that the sample mean could take on?\n"
   ]
  },
  {
   "cell_type": "markdown",
   "metadata": {
    "colab_type": "text",
    "id": "wUESd1N4mhfP"
   },
   "source": [
    "The set of all possible values is $(-\\infty,\\infty)$, since a large outlier can change the mean drastically. A large outlier could either increase or decrease the sum of the set by a large amount, while only increasing the size of the set by one."
   ]
  },
  {
   "cell_type": "markdown",
   "metadata": {
    "colab_type": "text",
    "id": "2CA4zzH1mhfQ"
   },
   "source": [
    "**Part H**: Describe in words or mathematical notation, what happens to the sample standard deviation when $y$ is varied in the following ways: \n",
    " \n",
    "- $y \\to \\infty$ \n",
    "- $y \\to \\bar{x}$"
   ]
  },
  {
   "cell_type": "markdown",
   "metadata": {
    "colab_type": "text",
    "id": "FGu381p4mhfQ"
   },
   "source": [
    "- $y \\to \\infty$ The standard deviation approaches $\\infty$, because the final term in the summation would become increasingly large, even as the size of the set remained almost the same.\n",
    "- $y \\to \\bar{x}$ The standard deviation becomes closer to 0 by a small amount. This is because the summation would now include ($\\bar{x}$-$\\bar{x}$), but would be divided by a slightly larger number (the size of the set), slightly reducing the standard deviation."
   ]
  },
  {
   "cell_type": "markdown",
   "metadata": {
    "colab_type": "text",
    "id": "nKklB145mhfQ"
   },
   "source": [
    "[Back to top](#top)\n",
    "\n",
    "<a id='p3'></a>\n",
    "\n",
    "## (25 pts) Problem 3\n",
    "*** \n",
    "Some claim that the final hours aboard the RMS Titanic were marked by \"class warfare\" in which the people with first-class tickets took all the good spots on the lifeboats; others claim that the final hours were characterized by male chivalry, in which the men valiantly gave up their positions in the boats and succumbed bravely to the depths of the Atlantic. \n",
    "\n",
    "We have the data on survival rates by class and by sex, so let's figure out whether there is evidence for these scenarios. Access the Titanic data in `titanic_data.csv` and store it in a Pandas DataFrame. The data contains information pertaining to class status (**Pclass**), survival (**Survived**), and gender (**Sex**) of passengers, among other things. Be sure to use the `titanic_data.csv` data set, *not* the `clean_titanic_data` file from the in-class notebook."
   ]
  },
  {
   "cell_type": "code",
   "execution_count": 10,
   "metadata": {
    "colab": {},
    "colab_type": "code",
    "id": "0ff8XvJcmhfR"
   },
   "outputs": [
    {
     "data": {
      "text/html": [
       "<div>\n",
       "<style scoped>\n",
       "    .dataframe tbody tr th:only-of-type {\n",
       "        vertical-align: middle;\n",
       "    }\n",
       "\n",
       "    .dataframe tbody tr th {\n",
       "        vertical-align: top;\n",
       "    }\n",
       "\n",
       "    .dataframe thead th {\n",
       "        text-align: right;\n",
       "    }\n",
       "</style>\n",
       "<table border=\"1\" class=\"dataframe\">\n",
       "  <thead>\n",
       "    <tr style=\"text-align: right;\">\n",
       "      <th></th>\n",
       "      <th>PassengerId</th>\n",
       "      <th>Survived</th>\n",
       "      <th>Pclass</th>\n",
       "      <th>Name</th>\n",
       "      <th>Sex</th>\n",
       "      <th>Age</th>\n",
       "      <th>SibSp</th>\n",
       "      <th>Parch</th>\n",
       "      <th>Ticket</th>\n",
       "      <th>Fare</th>\n",
       "      <th>Cabin</th>\n",
       "      <th>Embarked</th>\n",
       "    </tr>\n",
       "  </thead>\n",
       "  <tbody>\n",
       "    <tr>\n",
       "      <th>0</th>\n",
       "      <td>1</td>\n",
       "      <td>0.0</td>\n",
       "      <td>3.0</td>\n",
       "      <td>Braund, Mr. Owen Harris</td>\n",
       "      <td>male</td>\n",
       "      <td>22yrs</td>\n",
       "      <td>1</td>\n",
       "      <td>0</td>\n",
       "      <td>A/5 21171</td>\n",
       "      <td>£7.5s</td>\n",
       "      <td>NaN</td>\n",
       "      <td>S</td>\n",
       "    </tr>\n",
       "    <tr>\n",
       "      <th>1</th>\n",
       "      <td>2</td>\n",
       "      <td>1.0</td>\n",
       "      <td>1.0</td>\n",
       "      <td>Cumings, Mrs. John Bradley (Florence Briggs Th...</td>\n",
       "      <td>female</td>\n",
       "      <td>38yrs</td>\n",
       "      <td>1</td>\n",
       "      <td>0</td>\n",
       "      <td>PC 17599</td>\n",
       "      <td>£71.5s</td>\n",
       "      <td>C85</td>\n",
       "      <td>C</td>\n",
       "    </tr>\n",
       "    <tr>\n",
       "      <th>2</th>\n",
       "      <td>3</td>\n",
       "      <td>1.0</td>\n",
       "      <td>3.0</td>\n",
       "      <td>Heikkinen, Miss. Laina</td>\n",
       "      <td>female</td>\n",
       "      <td>26yrs</td>\n",
       "      <td>0</td>\n",
       "      <td>0</td>\n",
       "      <td>STON/O2. 3101282</td>\n",
       "      <td>£7.18s</td>\n",
       "      <td>NaN</td>\n",
       "      <td>S</td>\n",
       "    </tr>\n",
       "    <tr>\n",
       "      <th>3</th>\n",
       "      <td>4</td>\n",
       "      <td>1.0</td>\n",
       "      <td>1.0</td>\n",
       "      <td>Futrelle, Mrs. Jacques Heath (Lily May Peel)</td>\n",
       "      <td>female</td>\n",
       "      <td>35yrs</td>\n",
       "      <td>1</td>\n",
       "      <td>0</td>\n",
       "      <td>113803</td>\n",
       "      <td>£53.2s</td>\n",
       "      <td>C123</td>\n",
       "      <td>S</td>\n",
       "    </tr>\n",
       "    <tr>\n",
       "      <th>4</th>\n",
       "      <td>5</td>\n",
       "      <td>0.0</td>\n",
       "      <td>3.0</td>\n",
       "      <td>Allen, Mr. William Henry</td>\n",
       "      <td>male</td>\n",
       "      <td>35yrs</td>\n",
       "      <td>0</td>\n",
       "      <td>0</td>\n",
       "      <td>373450</td>\n",
       "      <td>£8.1s</td>\n",
       "      <td>NaN</td>\n",
       "      <td>S</td>\n",
       "    </tr>\n",
       "  </tbody>\n",
       "</table>\n",
       "</div>"
      ],
      "text/plain": [
       "   PassengerId  Survived  Pclass  \\\n",
       "0            1       0.0     3.0   \n",
       "1            2       1.0     1.0   \n",
       "2            3       1.0     3.0   \n",
       "3            4       1.0     1.0   \n",
       "4            5       0.0     3.0   \n",
       "\n",
       "                                                Name     Sex    Age  SibSp  \\\n",
       "0                            Braund, Mr. Owen Harris    male  22yrs      1   \n",
       "1  Cumings, Mrs. John Bradley (Florence Briggs Th...  female  38yrs      1   \n",
       "2                             Heikkinen, Miss. Laina  female  26yrs      0   \n",
       "3       Futrelle, Mrs. Jacques Heath (Lily May Peel)  female  35yrs      1   \n",
       "4                           Allen, Mr. William Henry    male  35yrs      0   \n",
       "\n",
       "   Parch            Ticket    Fare Cabin Embarked  \n",
       "0      0         A/5 21171   £7.5s   NaN        S  \n",
       "1      0          PC 17599  £71.5s   C85        C  \n",
       "2      0  STON/O2. 3101282  £7.18s   NaN        S  \n",
       "3      0            113803  £53.2s  C123        S  \n",
       "4      0            373450   £8.1s   NaN        S  "
      ]
     },
     "execution_count": 10,
     "metadata": {},
     "output_type": "execute_result"
    }
   ],
   "source": [
    "import pandas as pd\n",
    "file_path = '~/Downloads/dirty_titanic_data.csv'  #change path accordingly\n",
    "df = pd.read_csv(file_path)\n",
    "df.head()"
   ]
  },
  {
   "cell_type": "markdown",
   "metadata": {
    "colab_type": "text",
    "id": "D0h2DrLGmhfT"
   },
   "source": [
    "**Part A**: Consider the two claims: class warfare, and male chivalry. Suppose that class warfare occurred in the final hours aboard the Titanic.  What patterns might you expect to see in the data?  Suppose that male chivalry was widespread during the final hours instead. What patterns might you then expect to see in the data?  Explain both of these hypothesized patterns in words. Are these two hypotheses mutually exclusive or not?"
   ]
  },
  {
   "cell_type": "markdown",
   "metadata": {
    "colab_type": "text",
    "id": "30B7DPg9mhfT"
   },
   "source": [
    "Class warfare would lead to either an increase or decrease in the average fare of those that survived, depending on who won the conflict, relative to if it did not happen. If chivalry was widespread, you would see a far lower survival rate for men. These are not mutaully exclusive- the poorer sections with more workers had more men, which would affect chivalrous behavior."
   ]
  },
  {
   "cell_type": "markdown",
   "metadata": {
    "colab_type": "text",
    "id": "wzAEg0ItmhfT"
   },
   "source": [
    "**Part B**: Use Pandas methods to create a clean data set by removing any rows from the DataFrame that are missing values corresponding to **Survived**, **Pclass**, **Age**, or **Sex**. Store the clean data in a DataFrame called dfTitanic. Be sure to show any exploratory work determining if/where there are rows with missing values."
   ]
  },
  {
   "cell_type": "code",
   "execution_count": 11,
   "metadata": {
    "colab": {},
    "colab_type": "code",
    "id": "vEs7diGlmhfU"
   },
   "outputs": [
    {
     "data": {
      "text/html": [
       "<div>\n",
       "<style scoped>\n",
       "    .dataframe tbody tr th:only-of-type {\n",
       "        vertical-align: middle;\n",
       "    }\n",
       "\n",
       "    .dataframe tbody tr th {\n",
       "        vertical-align: top;\n",
       "    }\n",
       "\n",
       "    .dataframe thead th {\n",
       "        text-align: right;\n",
       "    }\n",
       "</style>\n",
       "<table border=\"1\" class=\"dataframe\">\n",
       "  <thead>\n",
       "    <tr style=\"text-align: right;\">\n",
       "      <th></th>\n",
       "      <th>PassengerId</th>\n",
       "      <th>Survived</th>\n",
       "      <th>Pclass</th>\n",
       "      <th>Name</th>\n",
       "      <th>Sex</th>\n",
       "      <th>Age</th>\n",
       "      <th>SibSp</th>\n",
       "      <th>Parch</th>\n",
       "      <th>Ticket</th>\n",
       "      <th>Fare</th>\n",
       "      <th>Cabin</th>\n",
       "      <th>Embarked</th>\n",
       "    </tr>\n",
       "  </thead>\n",
       "  <tbody>\n",
       "    <tr>\n",
       "      <th>0</th>\n",
       "      <td>1</td>\n",
       "      <td>0</td>\n",
       "      <td>3</td>\n",
       "      <td>Braund, Mr. Owen Harris</td>\n",
       "      <td>male</td>\n",
       "      <td>36.0</td>\n",
       "      <td>1</td>\n",
       "      <td>0</td>\n",
       "      <td>A/5 21171</td>\n",
       "      <td>7.2500</td>\n",
       "      <td>NaN</td>\n",
       "      <td>S</td>\n",
       "    </tr>\n",
       "    <tr>\n",
       "      <th>1</th>\n",
       "      <td>2</td>\n",
       "      <td>1</td>\n",
       "      <td>1</td>\n",
       "      <td>Cumings, Mrs. John Bradley (Florence Briggs Th...</td>\n",
       "      <td>female</td>\n",
       "      <td>18.0</td>\n",
       "      <td>1</td>\n",
       "      <td>0</td>\n",
       "      <td>PC 17599</td>\n",
       "      <td>71.2833</td>\n",
       "      <td>C85</td>\n",
       "      <td>C</td>\n",
       "    </tr>\n",
       "    <tr>\n",
       "      <th>2</th>\n",
       "      <td>3</td>\n",
       "      <td>1</td>\n",
       "      <td>3</td>\n",
       "      <td>Heikkinen, Miss. Laina</td>\n",
       "      <td>female</td>\n",
       "      <td>14.0</td>\n",
       "      <td>0</td>\n",
       "      <td>0</td>\n",
       "      <td>STON/O2. 3101282</td>\n",
       "      <td>7.9250</td>\n",
       "      <td>NaN</td>\n",
       "      <td>S</td>\n",
       "    </tr>\n",
       "    <tr>\n",
       "      <th>3</th>\n",
       "      <td>4</td>\n",
       "      <td>1</td>\n",
       "      <td>1</td>\n",
       "      <td>Futrelle, Mrs. Jacques Heath (Lily May Peel)</td>\n",
       "      <td>female</td>\n",
       "      <td>27.0</td>\n",
       "      <td>1</td>\n",
       "      <td>0</td>\n",
       "      <td>113803</td>\n",
       "      <td>53.1000</td>\n",
       "      <td>C123</td>\n",
       "      <td>S</td>\n",
       "    </tr>\n",
       "    <tr>\n",
       "      <th>4</th>\n",
       "      <td>5</td>\n",
       "      <td>0</td>\n",
       "      <td>3</td>\n",
       "      <td>Allen, Mr. William Henry</td>\n",
       "      <td>male</td>\n",
       "      <td>63.0</td>\n",
       "      <td>0</td>\n",
       "      <td>0</td>\n",
       "      <td>373450</td>\n",
       "      <td>8.0500</td>\n",
       "      <td>NaN</td>\n",
       "      <td>S</td>\n",
       "    </tr>\n",
       "  </tbody>\n",
       "</table>\n",
       "</div>"
      ],
      "text/plain": [
       "   PassengerId  Survived  Pclass  \\\n",
       "0            1         0       3   \n",
       "1            2         1       1   \n",
       "2            3         1       3   \n",
       "3            4         1       1   \n",
       "4            5         0       3   \n",
       "\n",
       "                                                Name     Sex   Age  SibSp  \\\n",
       "0                            Braund, Mr. Owen Harris    male  36.0      1   \n",
       "1  Cumings, Mrs. John Bradley (Florence Briggs Th...  female  18.0      1   \n",
       "2                             Heikkinen, Miss. Laina  female  14.0      0   \n",
       "3       Futrelle, Mrs. Jacques Heath (Lily May Peel)  female  27.0      1   \n",
       "4                           Allen, Mr. William Henry    male  63.0      0   \n",
       "\n",
       "   Parch            Ticket     Fare Cabin Embarked  \n",
       "0      0         A/5 21171   7.2500   NaN        S  \n",
       "1      0          PC 17599  71.2833   C85        C  \n",
       "2      0  STON/O2. 3101282   7.9250   NaN        S  \n",
       "3      0            113803  53.1000  C123        S  \n",
       "4      0            373450   8.0500   NaN        S  "
      ]
     },
     "execution_count": 11,
     "metadata": {},
     "output_type": "execute_result"
    }
   ],
   "source": [
    "# Your code here.\n",
    "import pandas as pd\n",
    "file_path = '~/Downloads/titanic_data.csv'  #change path accordingly\n",
    "df = pd.read_csv(file_path)\n",
    "dfTitanic = df[(df.Survived.notnull())&(df.Pclass.notnull())&(df.Age.notnull())&(df.Sex.notnull())]\n",
    "dfTitanic.head()"
   ]
  },
  {
   "cell_type": "markdown",
   "metadata": {
    "colab_type": "text",
    "id": "z_7fYhBJmhfV"
   },
   "source": [
    "**Part C**: Compute the fraction of survivors according to class and gender. There are 3 passenger classes and 2 sexes in the data set, so you should report all 6 possible combinations.  Then, answer 3 questions:\n",
    "* **(i)** Within each passenger class, were men or women more/less/equally likely to survive?\n",
    "* **(ii)**  Looking at only the male or only the female passengers, how is passenger class related to the category's survival rate?\n",
    "* **(iii)**  Did men in first class or women in third class have a higher survival rate? "
   ]
  },
  {
   "cell_type": "code",
   "execution_count": 12,
   "metadata": {
    "colab": {},
    "colab_type": "code",
    "id": "_NwlgiiOmhfW"
   },
   "outputs": [
    {
     "name": "stdout",
     "output_type": "stream",
     "text": [
      "The male survival rate in first class is :  0.3870967741935484\n",
      "The female survival rate in first class is :  0.96\n",
      "The male survival rate in second class is :  0.1839080459770115\n",
      "The female survival rate in second class is :  0.9310344827586207\n",
      "The male survival rate in third class is :  0.13780918727915195\n",
      "The female survival rate in third class is :  0.5254237288135594\n"
     ]
    }
   ],
   "source": [
    "# Your code here.\n",
    "t_MaleF=len(dfTitanic[(dfTitanic.Sex == \"male\")& (dfTitanic.Pclass == int(1))].index)\n",
    "t_FemaleF=len(dfTitanic[(dfTitanic.Sex==\"female\") & (dfTitanic.Pclass == 1.0)].index)\n",
    "t_MaleSF=len(dfTitanic[(dfTitanic.Sex == \"male\")& (dfTitanic.Pclass == 1.0) &(dfTitanic.Survived== 1.0)].index)\n",
    "t_FemaleSF=len(dfTitanic[(dfTitanic.Sex==\"female\") & (dfTitanic.Pclass == 1.0) &(dfTitanic.Survived== 1.0)].index)\n",
    "print(\"The male survival rate in first class is : \", t_MaleSF/t_MaleF)\n",
    "print(\"The female survival rate in first class is : \", t_FemaleSF/t_FemaleF)\n",
    "\n",
    "t_MaleS=len(dfTitanic[(dfTitanic.Sex == \"male\")& (dfTitanic.Pclass == 2.0)].index)\n",
    "t_FemaleS=len(dfTitanic[(dfTitanic.Sex==\"female\") & (dfTitanic.Pclass == 2.0)].index)\n",
    "t_MaleSS=len(dfTitanic[(dfTitanic.Sex == \"male\")& (dfTitanic.Pclass == 2.0) &(dfTitanic.Survived== 1.0)].index)\n",
    "t_FemaleSS=len(dfTitanic[(dfTitanic.Sex==\"female\") & (dfTitanic.Pclass == 2.0) &(dfTitanic.Survived== 1.0)].index)\n",
    "\n",
    "print(\"The male survival rate in second class is : \", t_MaleSS/t_MaleS)\n",
    "print(\"The female survival rate in second class is : \", t_FemaleSS/t_FemaleS)\n",
    "\n",
    "t_MaleT=len(dfTitanic[(dfTitanic.Sex == \"male\")& (dfTitanic.Pclass == 3.0)].index)\n",
    "t_FemaleT=len(dfTitanic[(dfTitanic.Sex==\"female\") & (dfTitanic.Pclass == 3.0)].index)\n",
    "t_MaleTS=len(dfTitanic[(dfTitanic.Sex == \"male\")& (dfTitanic.Pclass == 3.0) & (dfTitanic.Survived== 1.0)].index)\n",
    "t_FemaleTS=len(dfTitanic[(dfTitanic.Sex==\"female\") & (dfTitanic.Pclass == 3.0) & (dfTitanic.Survived== 1.0)].index)\n",
    "\n",
    "print(\"The male survival rate in third class is : \", t_MaleTS/t_MaleT)\n",
    "print(\"The female survival rate in third class is : \", t_FemaleTS/t_FemaleT)\n",
    "\n"
   ]
  },
  {
   "cell_type": "markdown",
   "metadata": {
    "colab_type": "text",
    "id": "fbLmJtPymhfY"
   },
   "source": [
    "-Within each class, women were far more likely to survive.  \n",
    "\n",
    "-For both men and women, as class increased, so too did the survival rate.\n",
    "\n",
    "-The women in third class had a higher survival rate than the men in first class."
   ]
  },
  {
   "cell_type": "markdown",
   "metadata": {
    "colab_type": "text",
    "id": "hdHUBAQwmhfY"
   },
   "source": [
    "**Part D**: Plot a histogram of all of the passenger ages, using the bin edges $[0,5,10,\\ldots,70,75,80]$ defined by `my_bins` below. How would you characterize the distribution of **AGE**? (By _characterize_ we mean that you should indicate whether the data are unimodal, bimodal, multimodal, symmetric, negatively skewed, positively skewed, etc.)  Be sure to label your axes and use your figure to justify your conclusions."
   ]
  },
  {
   "cell_type": "code",
   "execution_count": 13,
   "metadata": {
    "colab": {},
    "colab_type": "code",
    "id": "vsQJVZbpmhfY"
   },
   "outputs": [],
   "source": [
    "my_bins = range(0,85,5)"
   ]
  },
  {
   "cell_type": "code",
   "execution_count": 14,
   "metadata": {
    "colab": {},
    "colab_type": "code",
    "id": "cuxjID9Amhfb"
   },
   "outputs": [
    {
     "data": {
      "image/png": "[encoded data removed]",
      "text/plain": [
       "<Figure size 432x288 with 1 Axes>"
      ]
     },
     "metadata": {
      "needs_background": "light"
     },
     "output_type": "display_data"
    }
   ],
   "source": [
    "# Your code here.\n",
    "import matplotlib.pylab as plt\n",
    "plt.hist(dfTitanic.Age, bins=my_bins)\n",
    "plt.xlabel(\"Age\")\n",
    "plt.ylabel(\"Number of Passengers\")\n",
    "plt.title(\"Number of Passengers vs Age\")\n",
    "plt.show()\n"
   ]
  },
  {
   "cell_type": "markdown",
   "metadata": {
    "colab_type": "text",
    "id": "3ZikT9MImhfc"
   },
   "source": [
    "This graph is a bimodal graph, due to its two peaks with one being near 25-30 and another near 0-5. It is right-skewed in addition, meaning there are more data points to the right of 25-30 than to the left."
   ]
  },
  {
   "cell_type": "markdown",
   "metadata": {
    "colab_type": "text",
    "id": "R_FwewNbmhfd"
   },
   "source": [
    "**Part E**: One might wonder how a passenger's age is related to the likelihood that they would survive the Titanic disaster. To answer this question graphically, plot two density histograms on the same set of axes, showing the distribution of the ages of passengers who survived, and the distribution of the ages of passengers who did not. \n",
    "* Use the bin edges $[0,5,10,\\ldots,70,75,80]$ for both histograms.\n",
    "* This problem is about a *ship* sinking in the *ocean*, so use **coral** and **seagreen** as the facecolors for your histogram boxes.\n",
    "* Plot both histograms on a single set of axes (there should be only one panel in the figure you create), but use Matplotlib/Pandas plotting functionality to make the faces of the histogram boxes somewhat transparent, so both histograms are visible.\n",
    "* Include a legend and label your axes.\n",
    "* Comment on the results. Does your figure suggest that some age ranges are more or less likely to have survived the disaster than other ages? Fully explain your reasoning and use your figure to justify your conclusions.\n",
    "* If you noticed some relationship between age and likelihood of survival, what is one possible explanation?"
   ]
  },
  {
   "cell_type": "code",
   "execution_count": 15,
   "metadata": {
    "colab": {},
    "colab_type": "code",
    "id": "FNJdX-yFmhfd"
   },
   "outputs": [
    {
     "data": {
      "image/png": "[encoded data removed]",
      "text/plain": [
       "<Figure size 432x288 with 1 Axes>"
      ]
     },
     "metadata": {
      "needs_background": "light"
     },
     "output_type": "display_data"
    }
   ],
   "source": [
    "# Your code here.\n",
    "plt.hist(dfTitanic[dfTitanic.Survived == 1].Age, density=True ,bins=my_bins, color=\"seagreen\", label=\"Survived\", alpha=0.5)\n",
    "plt.hist(dfTitanic[dfTitanic.Survived == 0].Age, density=True ,bins=my_bins, color=\"coral\", label=\"Died\", alpha=0.5)\n",
    "plt.xlabel(\"Age\")\n",
    "plt.ylabel(\"Number of Passengers\")\n",
    "plt.title(\"Number of Passengers vs Age\")\n",
    "plt.legend(loc='upper right')\n",
    "plt.show()"
   ]
  },
  {
   "cell_type": "markdown",
   "metadata": {
    "colab_type": "text",
    "id": "OoEHEgF2mhff"
   },
   "source": [
    "Based on histogram above, aside from the bands 1-30, 40-50, 55-75, and 75-80, more people died than survived. There does not seem to be a particularly strong correlation between age and survival rates, and it seem s more likely that other factors were the primary deciders of who lived and who died. For instance, perhaps the older passenger were welathier and had better seating and class numbers, while the younger people may have been on deck when the tragedy occured."
   ]
  },
  {
   "cell_type": "markdown",
   "metadata": {
    "colab_type": "text",
    "id": "hU3Y4WEqmhff"
   },
   "source": [
    "**Part F:** In Part E, we plotted two *density* histograms, showing the distributions of ages of passengers that survived or did not survive the Titanic disaster. Why would it be misleading for us to have plotted these as *frequency* histograms instead?"
   ]
  },
  {
   "cell_type": "markdown",
   "metadata": {
    "colab_type": "text",
    "id": "tYArO-FMmhfg"
   },
   "source": [
    "For most age ranges, most people died, but the rate of survival for each group is not given by a frequency histogram."
   ]
  },
  {
   "cell_type": "markdown",
   "metadata": {
    "colab_type": "text",
    "id": "eO5fYjHfmhfg"
   },
   "source": [
    "**Part G**: Do the data suggest class warfare, male chivalry, or some combination of both characteristics in the final hours aboard the Titanic?  Justify your conclusion based on the computations done above, or do any other analysis that you like, but be sure to clearly justify your conclusion."
   ]
  },
  {
   "cell_type": "markdown",
   "metadata": {
    "colab_type": "text",
    "id": "NkpQMWKPmhfg"
   },
   "source": [
    "The data suggests both. The survival rates for females are significantly higher, with all above 50%. There is evidence of class warfare as well- the survival rates for all classes increases the higher in class you go."
   ]
  },
  {
   "cell_type": "markdown",
   "metadata": {
    "colab_type": "text",
    "id": "fZzo9MwEmhfh"
   },
   "source": [
    "[Back to top](#top)\n",
    "<a id='p4'></a>\n",
    "\n",
    "## (25 pts) Problem 4 (Snowfall in Boulder)\n",
    "***\n",
    "\n",
    "The NOAA Earth System Research Laboratory (ESRL) Physical Sciences Division (PSD) conducts scientific research to observe, understand, model, predict, and forecast weather, water, and climate extremes and their impacts. They have a website with publicly available data. One such data set contains monthly snowfall for Boulder dating back to 1889 (https://www.esrl.noaa.gov/psd/boulder/bouldersnow.html). Load ‘Boulder_Snowfall.csv’ from the Canvas page. \n",
    "\n",
    "**Part A:** To start, we need to “clean” our data set. When the amount of snow was nonzero, but too small to be recorded, this data set recorded ‘T’. Replace those instances with zeros. AFTER, you've done that, remove any rows (which correspond to years) with missing data. As a check, if you've cleaned the file correctly, there should be 121 rows remaining. "
   ]
  },
  {
   "cell_type": "code",
   "execution_count": 16,
   "metadata": {
    "colab": {},
    "colab_type": "code",
    "id": "cAM9M-vCmhfh",
    "scrolled": false
   },
   "outputs": [
    {
     "name": "stdout",
     "output_type": "stream",
     "text": [
      "121\n"
     ]
    },
    {
     "data": {
      "text/html": [
       "<div>\n",
       "<style scoped>\n",
       "    .dataframe tbody tr th:only-of-type {\n",
       "        vertical-align: middle;\n",
       "    }\n",
       "\n",
       "    .dataframe tbody tr th {\n",
       "        vertical-align: top;\n",
       "    }\n",
       "\n",
       "    .dataframe thead th {\n",
       "        text-align: right;\n",
       "    }\n",
       "</style>\n",
       "<table border=\"1\" class=\"dataframe\">\n",
       "  <thead>\n",
       "    <tr style=\"text-align: right;\">\n",
       "      <th></th>\n",
       "      <th>Year</th>\n",
       "      <th>Jan</th>\n",
       "      <th>Feb</th>\n",
       "      <th>Mar</th>\n",
       "      <th>Apr</th>\n",
       "      <th>May</th>\n",
       "      <th>Jun</th>\n",
       "      <th>Jul</th>\n",
       "      <th>Aug</th>\n",
       "      <th>Sep</th>\n",
       "      <th>Oct</th>\n",
       "      <th>Nov</th>\n",
       "      <th>Dec</th>\n",
       "      <th>Total Sep-Jun</th>\n",
       "      <th>Total Jan-Dec</th>\n",
       "    </tr>\n",
       "  </thead>\n",
       "  <tbody>\n",
       "    <tr>\n",
       "      <th>6</th>\n",
       "      <td>1898</td>\n",
       "      <td>7</td>\n",
       "      <td>4.2</td>\n",
       "      <td>7.5</td>\n",
       "      <td>8.2</td>\n",
       "      <td>13</td>\n",
       "      <td>0</td>\n",
       "      <td>0</td>\n",
       "      <td>0</td>\n",
       "      <td>1</td>\n",
       "      <td>5</td>\n",
       "      <td>23.5</td>\n",
       "      <td>18</td>\n",
       "      <td>63.1</td>\n",
       "      <td>87.4</td>\n",
       "    </tr>\n",
       "    <tr>\n",
       "      <th>7</th>\n",
       "      <td>1899</td>\n",
       "      <td>13</td>\n",
       "      <td>15.2</td>\n",
       "      <td>31</td>\n",
       "      <td>8</td>\n",
       "      <td>0</td>\n",
       "      <td>0</td>\n",
       "      <td>0</td>\n",
       "      <td>0</td>\n",
       "      <td>0</td>\n",
       "      <td>2</td>\n",
       "      <td>0</td>\n",
       "      <td>12.8</td>\n",
       "      <td>114.7</td>\n",
       "      <td>82</td>\n",
       "    </tr>\n",
       "    <tr>\n",
       "      <th>8</th>\n",
       "      <td>1900</td>\n",
       "      <td>4.5</td>\n",
       "      <td>14.8</td>\n",
       "      <td>6.8</td>\n",
       "      <td>20</td>\n",
       "      <td>0</td>\n",
       "      <td>0</td>\n",
       "      <td>0</td>\n",
       "      <td>0</td>\n",
       "      <td>0</td>\n",
       "      <td>0</td>\n",
       "      <td>3.1</td>\n",
       "      <td>9.2</td>\n",
       "      <td>60.9</td>\n",
       "      <td>58.4</td>\n",
       "    </tr>\n",
       "    <tr>\n",
       "      <th>9</th>\n",
       "      <td>1901</td>\n",
       "      <td>7.5</td>\n",
       "      <td>6.2</td>\n",
       "      <td>18.5</td>\n",
       "      <td>26</td>\n",
       "      <td>0</td>\n",
       "      <td>0</td>\n",
       "      <td>0</td>\n",
       "      <td>0</td>\n",
       "      <td>0</td>\n",
       "      <td>4</td>\n",
       "      <td>0</td>\n",
       "      <td>15</td>\n",
       "      <td>70.5</td>\n",
       "      <td>77.2</td>\n",
       "    </tr>\n",
       "    <tr>\n",
       "      <th>10</th>\n",
       "      <td>1902</td>\n",
       "      <td>7.2</td>\n",
       "      <td>6.5</td>\n",
       "      <td>9.5</td>\n",
       "      <td>3</td>\n",
       "      <td>0</td>\n",
       "      <td>0</td>\n",
       "      <td>0</td>\n",
       "      <td>0</td>\n",
       "      <td>0</td>\n",
       "      <td>0.5</td>\n",
       "      <td>8</td>\n",
       "      <td>17</td>\n",
       "      <td>45.2</td>\n",
       "      <td>51.7</td>\n",
       "    </tr>\n",
       "  </tbody>\n",
       "</table>\n",
       "</div>"
      ],
      "text/plain": [
       "    Year  Jan   Feb   Mar  Apr May Jun Jul Aug Sep  Oct   Nov   Dec  \\\n",
       "6   1898    7   4.2   7.5  8.2  13   0   0   0   1    5  23.5    18   \n",
       "7   1899   13  15.2    31    8   0   0   0   0   0    2     0  12.8   \n",
       "8   1900  4.5  14.8   6.8   20   0   0   0   0   0    0   3.1   9.2   \n",
       "9   1901  7.5   6.2  18.5   26   0   0   0   0   0    4     0    15   \n",
       "10  1902  7.2   6.5   9.5    3   0   0   0   0   0  0.5     8    17   \n",
       "\n",
       "   Total Sep-Jun Total Jan-Dec  \n",
       "6           63.1          87.4  \n",
       "7          114.7            82  \n",
       "8           60.9          58.4  \n",
       "9           70.5          77.2  \n",
       "10          45.2          51.7  "
      ]
     },
     "execution_count": 16,
     "metadata": {},
     "output_type": "execute_result"
    }
   ],
   "source": [
    "# Your code here.\n",
    "import matplotlib.pylab as plt\n",
    "import pandas as pd\n",
    "file_path = '~/Downloads/Boulder_Snowfall.csv'  #change path accordingly\n",
    "df = pd.read_csv(file_path)\n",
    "df.replace(r\"\\s*T\\s*\", 0, inplace=True, regex=True)\n",
    "df.replace(\". \", float('nan'), inplace=True)\n",
    "df.dropna(inplace=True)\n",
    "print(len(df.index))\n",
    "df.head()"
   ]
  },
  {
   "cell_type": "markdown",
   "metadata": {
    "colab_type": "text",
    "id": "yKsf4Bx3mhfj"
   },
   "source": [
    "**Part B:** Plot the last column of data, “Total Jan-Dec”, from the cleaned data set. Label your axes. Do you observe any trends? Discuss.\n",
    "\n",
    "[Note: Make sure that your x-axis tick labels are in years and are readable. You may have to play around with formatting the ticklabels. plt.MaxNLocator might be helpful depending on how you plotted your data.] "
   ]
  },
  {
   "cell_type": "code",
   "execution_count": 17,
   "metadata": {
    "colab": {},
    "colab_type": "code",
    "id": "X5qa--ihmhfj"
   },
   "outputs": [
    {
     "data": {
      "image/png": "[encoded data removed]",
      "text/plain": [
       "<Figure size 432x288 with 1 Axes>"
      ]
     },
     "metadata": {
      "needs_background": "light"
     },
     "output_type": "display_data"
    }
   ],
   "source": [
    "# Your code here.\n",
    "plt.plot(df[\"Total Jan-Dec\"].astype(float))\n",
    "plt.xlabel(\"Years\")\n",
    "plt.ylabel(\"Total Snowfall in Inches\")\n",
    "# yticks, labels = plt.yticks()\n",
    "# plt.yticks([for i in range(0,140,10) return i])\n",
    "plt.title(\"Snowfall since 1898\")\n",
    "plt.show()"
   ]
  },
  {
   "cell_type": "markdown",
   "metadata": {
    "colab_type": "text",
    "id": "YRxROvLdmhfl"
   },
   "source": [
    "**Part C:** Using your cleaned data set, create a histogram of the yearly snowfall. Bin your data with a bin-width of 5 inches, starting at 35 inches. Make the edgecolor of your graph white. What is the most common amount of snow to get in a year? How does this compare with how much snow we got in 2019? "
   ]
  },
  {
   "cell_type": "code",
   "execution_count": 18,
   "metadata": {
    "colab": {},
    "colab_type": "code",
    "id": "wVdtiUCxmhfl"
   },
   "outputs": [
    {
     "data": {
      "image/png": "[encoded data removed]",
      "text/plain": [
       "<Figure size 432x288 with 1 Axes>"
      ]
     },
     "metadata": {
      "needs_background": "light"
     },
     "output_type": "display_data"
    },
    {
     "name": "stdout",
     "output_type": "stream",
     "text": [
      "The mode is:  122.2\n"
     ]
    }
   ],
   "source": [
    "# Your code here.\n",
    "plt.hist((df[\"Total Jan-Dec\"].astype(float)),range(35,125,5), edgecolor=\"white\")\n",
    "plt.show()\n",
    "print(\"The mode is: \",df[df.Year == 2019][\"Total Jan-Dec\"].iloc[0])"
   ]
  },
  {
   "cell_type": "markdown",
   "metadata": {
    "colab_type": "text",
    "id": "QhG84xfTmhfo"
   },
   "source": [
    "The most common amount of snow is between 75-80 inches."
   ]
  },
  {
   "cell_type": "markdown",
   "metadata": {
    "colab_type": "text",
    "id": "af9s27tnmhfo"
   },
   "source": [
    "**Part D:** Generate a series of 12 box plots to represent each decade starting in 1900, using your cleaned data set. Orient the box plots so that the decades (‘1900-1909’, ‘1910-1919’, … , ‘2010-2019’) appear along the x-axis, and the y-axis shows the amount of snowfall. Have all 12 boxplots as part of one graph. Include appropriate labels to your axes and a title, so that if someone not in our class were to look at your plots, they would understand what they were looking at. \n",
    "\n",
    "[Note: Data from the year 2004 was dropped during the initial cleaning of the data set (or should have been). Keep this in mind when plotting data from the 2000-2009 decade.]"
   ]
  },
  {
   "cell_type": "code",
   "execution_count": 19,
   "metadata": {
    "colab": {},
    "colab_type": "code",
    "id": "Lc8DmooJmhfo"
   },
   "outputs": [
    {
     "data": {
      "image/png": "[encoded data removed]",
      "text/plain": [
       "<Figure size 432x288 with 1 Axes>"
      ]
     },
     "metadata": {
      "needs_background": "light"
     },
     "output_type": "display_data"
    }
   ],
   "source": [
    "# Your code here.\n",
    "pltList=[]\n",
    "One=df[(df.Year>1899)&(df.Year<=1909)][\"Total Jan-Dec\"].astype(float)\n",
    "Two=df[(df.Year>1909)&(df.Year<=1919)][\"Total Jan-Dec\"].astype(float)\n",
    "Three=df[(df.Year>1919)&(df.Year<=1929)][\"Total Jan-Dec\"].astype(float)\n",
    "Four=df[(df.Year>1929)&(df.Year<=1939)][\"Total Jan-Dec\"].astype(float)\n",
    "Five=df[(df.Year>1939)&(df.Year<=1949)][\"Total Jan-Dec\"].astype(float)\n",
    "Six=df[(df.Year>1949)&(df.Year<=1959)][\"Total Jan-Dec\"].astype(float)\n",
    "Seven=df[(df.Year>1959)&(df.Year<=1969)][\"Total Jan-Dec\"].astype(float)\n",
    "Eight=df[(df.Year>1969)&(df.Year<=1979)][\"Total Jan-Dec\"].astype(float)\n",
    "Nine=df[(df.Year>1979)&(df.Year<=1989)][\"Total Jan-Dec\"].astype(float)\n",
    "Ten=df[(df.Year>1989)&(df.Year<=1999)][\"Total Jan-Dec\"].astype(float)\n",
    "Eleven=df[(df.Year>1999)&(df.Year<=2009)][\"Total Jan-Dec\"].astype(float)\n",
    "Twelve=df[(df.Year>2009)&(df.Year<=2019)][\"Total Jan-Dec\"].astype(float)\n",
    "pltList.append(One)\n",
    "pltList.append(Two)\n",
    "pltList.append(Three)\n",
    "pltList.append(Four)\n",
    "pltList.append(Five)\n",
    "pltList.append(Six)\n",
    "pltList.append(Seven)\n",
    "pltList.append(Eight)\n",
    "pltList.append(Nine)\n",
    "pltList.append(Ten)\n",
    "pltList.append(Eleven)\n",
    "pltList.append(Twelve)\n",
    "\n",
    "plt.boxplot(pltList)\n",
    "plt.xlabel('Decades')\n",
    "plt.ylabel('Inches of Snow')\n",
    "plt.title(\"Snow vs Decades boxplot\")\n",
    "plt.show()"
   ]
  },
  {
   "cell_type": "markdown",
   "metadata": {
    "colab_type": "text",
    "id": "TX3NK_Atmhfr"
   },
   "source": [
    "\n",
    "**Part E:** Let’s study snowfall in Boulder, in February. Compute the mean February snowfall using your cleaned data set. Next calculate the Tukey 5-number summary for the February snowfall data. Lastly, generate a boxplot for the February snowfall. "
   ]
  },
  {
   "cell_type": "code",
   "execution_count": 20,
   "metadata": {
    "colab": {},
    "colab_type": "code",
    "id": "qfLkBohZmhfr"
   },
   "outputs": [
    {
     "name": "stdout",
     "output_type": "stream",
     "text": [
      "count    121.000000\n",
      "mean      11.402479\n",
      "std        8.376758\n",
      "min        0.000000\n",
      "25%        5.400000\n",
      "50%        9.800000\n",
      "75%       16.300000\n",
      "max       54.600000\n",
      "Name: Feb, dtype: float64\n"
     ]
    }
   ],
   "source": [
    "# Your code here. \n",
    "M=df[\"Feb\"].astype(float)\n",
    "print(M.describe())"
   ]
  },
  {
   "cell_type": "markdown",
   "metadata": {
    "colab_type": "text",
    "id": "JcGxvoPwmhft"
   },
   "source": [
    "The mean February snowfall is 11.4 inches, the minimum is 0 inches, 25% is 5.4 inches, 50% is 9.8 inches, 75% is 16.3 inches, and the maximum is 54.6 inches."
   ]
  },
  {
   "cell_type": "markdown",
   "metadata": {
    "colab_type": "text",
    "id": "ifqaNpXCmhfu"
   },
   "source": [
    "**Part F:** Plot all of the February snowfall with a line plot, using your cleaned data set. How many inches of snow do you predict we will get this February in Boulder? \n",
    "\n",
    "_No credit, but only for fun_ : Now that February is over, compare the predicted value with the original!"
   ]
  },
  {
   "cell_type": "code",
   "execution_count": 21,
   "metadata": {
    "colab": {},
    "colab_type": "code",
    "id": "bQwdmPFomhfu"
   },
   "outputs": [
    {
     "data": {
      "image/png": "[encoded data removed]",
      "text/plain": [
       "<Figure size 432x288 with 1 Axes>"
      ]
     },
     "metadata": {
      "needs_background": "light"
     },
     "output_type": "display_data"
    }
   ],
   "source": [
    "# Your code here.\n",
    "plt.plot(df.Year, M)\n",
    "plt.xlabel(\"Year\")\n",
    "plt.ylabel(\"Total Snowfall in Inches (Feb)\")\n",
    "# yticks, labels = plt.yticks()\n",
    "# plt.yticks([for i in range(0,140,10) return i])\n",
    "plt.title(\"Feb snowfall vs Year\")\n",
    "plt.show()"
   ]
  },
  {
   "cell_type": "markdown",
   "metadata": {
    "colab_type": "text",
    "id": "TttrPelnmhfw"
   },
   "source": [
    "I predict that we will get around 15 inches of snow, which seems in line with the snowfall in the past. The real value appears to have been around 13 inches."
   ]
  },
  {
   "cell_type": "markdown",
   "metadata": {
    "colab_type": "text",
    "id": "BGogXtUgmhfw"
   },
   "source": [
    "[Back to top](#top)\n",
    "<a id='p5'></a>\n",
    "\n",
    "## (15 pts) Problem 5\n",
    "***\n",
    "Consider the following 3 data sets:\n",
    "\n",
    "`A=[8, 6, 7, 5, 3, 0, 9]`\n",
    "\n",
    "`B=[2, 29, 84, 2, 10, 69, 3, 31, 18]`\n",
    "\n",
    "`C` is the random data set generated by using `np.random.randint(0,1000, size=100)`\n",
    "\n",
    "For each data set, perform the following computations:\n",
    "\n",
    "**Part A:** Compute and print the mean and standard deviation of the data set. You may use built-in python functions."
   ]
  },
  {
   "cell_type": "code",
   "execution_count": 22,
   "metadata": {
    "colab": {},
    "colab_type": "code",
    "id": "Y5mBVN_2mhfx",
    "scrolled": true
   },
   "outputs": [
    {
     "name": "stdout",
     "output_type": "stream",
     "text": [
      "The mean of A is:  5.428571428571429\n",
      "The mean of B is:  27.555555555555557\n",
      "The mean of C is:  525.88\n",
      "The std of A is:  3.101458950082625\n",
      "The std of B is:  30.05457998005924\n",
      "The std of C is:  289.2756638519212\n"
     ]
    }
   ],
   "source": [
    "# Your code here.\n",
    "import numpy as np\n",
    "A=[8, 6, 7, 5, 3, 0, 9]\n",
    "B=[2, 29, 84, 2, 10, 69, 3, 31, 18]\n",
    "C=np.random.randint(0,1000, size=100)\n",
    "print (\"The mean of A is: \",np.mean(A))\n",
    "print (\"The mean of B is: \",np.mean(B))\n",
    "print (\"The mean of C is: \",np.mean(C))\n",
    "print (\"The std of A is: \",np.std(A,ddof=1))\n",
    "print (\"The std of B is: \",np.std(B,ddof=1))\n",
    "print (\"The std of C is: \",np.std(C,ddof=1))\n"
   ]
  },
  {
   "cell_type": "markdown",
   "metadata": {
    "colab_type": "text",
    "id": "MRRagOuomhfz"
   },
   "source": [
    "**Part B:** Compute and print  the mean and standard deviation of the new data set formed by subtracting the original mean from each observation."
   ]
  },
  {
   "cell_type": "code",
   "execution_count": 23,
   "metadata": {
    "colab": {},
    "colab_type": "code",
    "id": "hxqs-Ttzmhfz"
   },
   "outputs": [
    {
     "name": "stdout",
     "output_type": "stream",
     "text": [
      "The new mean of C is:  0.35\n",
      "The std of C is:  288.846832117374\n"
     ]
    }
   ],
   "source": [
    "# Your code here.\n",
    "m=np.mean(C)\n",
    "for i in range(len(C)):\n",
    "    C[i]-=m\n",
    "print (\"The new mean of C is: \",np.mean(C))\n",
    "print (\"The std of C is: \",np.std(C,ddof=1))\n"
   ]
  },
  {
   "cell_type": "markdown",
   "metadata": {
    "colab_type": "text",
    "id": "krdmc5gPmhf1"
   },
   "source": [
    "**Part C:** Compute and print  the mean and standard deviation of the new data set formed by subtracting the original mean from each observation and then dividing by the original standard deviation."
   ]
  },
  {
   "cell_type": "code",
   "execution_count": 24,
   "metadata": {
    "colab": {},
    "colab_type": "code",
    "id": "CWELZi5Zmhf1"
   },
   "outputs": [
    {
     "name": "stdout",
     "output_type": "stream",
     "text": [
      "The new mean of C is:  -0.02\n",
      "The std of C is:  0.6663635674617903\n"
     ]
    }
   ],
   "source": [
    "# Your code here.\n",
    "m=np.mean(C)\n",
    "s=np.std(C,ddof=1)\n",
    "for i in range(len(C)):\n",
    "    C[i]-=m\n",
    "    C[i]/=s\n",
    "print (\"The new mean of C is: \",np.mean(C))\n",
    "print (\"The std of C is: \",np.std(C,ddof=1))"
   ]
  },
  {
   "cell_type": "markdown",
   "metadata": {
    "colab_type": "text",
    "id": "VpDKUkjtmhf3"
   },
   "source": [
    "**Part D:** Why might this result matter?"
   ]
  },
  {
   "cell_type": "markdown",
   "metadata": {
    "colab_type": "text",
    "id": "hcdZLscWmhf4"
   },
   "source": [
    "This result matters because it provides a way to normalize a data set so it has a mean of 0 and and std of 1. This allows techniques to be applied to the normalized set and then applied to the general set."
   ]
  }
 ],
 "metadata": {
  "colab": {
   "name": "HW1_Lastname_Firstname.ipynb",
   "provenance": [],
   "toc_visible": true
  },
  "kernelspec": {
   "display_name": "Python 3",
   "language": "python",
   "name": "python3"
  },
  "language_info": {
   "codemirror_mode": {
    "name": "ipython",
    "version": 3
   },
   "file_extension": ".py",
   "mimetype": "text/x-python",
   "name": "python",
   "nbconvert_exporter": "python",
   "pygments_lexer": "ipython3",
   "version": "3.7.6"
  }
 },
 "nbformat": 4,
 "nbformat_minor": 1
}
